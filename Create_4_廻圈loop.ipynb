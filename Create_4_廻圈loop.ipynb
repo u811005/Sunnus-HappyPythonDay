{
  "nbformat": 4,
  "nbformat_minor": 0,
  "metadata": {
    "colab": {
      "name": "Create 4_廻圈loop.ipynb",
      "provenance": [],
      "authorship_tag": "ABX9TyM2E40HJemDFt2ZRgKpWC1z",
      "include_colab_link": true
    },
    "kernelspec": {
      "name": "python3",
      "display_name": "Python 3"
    },
    "language_info": {
      "name": "python"
    }
  },
  "cells": [
    {
      "cell_type": "markdown",
      "metadata": {
        "id": "view-in-github",
        "colab_type": "text"
      },
      "source": [
        "<a href=\"https://colab.research.google.com/github/u811005/Sunnus-HappyPythonDay/blob/main/Create_4_%E5%BB%BB%E5%9C%88loop.ipynb\" target=\"_parent\"><img src=\"https://colab.research.google.com/assets/colab-badge.svg\" alt=\"Open In Colab\"/></a>"
      ]
    },
    {
      "cell_type": "markdown",
      "metadata": {
        "id": "yrF0elcQpngP"
      },
      "source": [
        "agenda"
      ]
    },
    {
      "cell_type": "markdown",
      "metadata": {
        "id": "fLMlCPPkppDw"
      },
      "source": [
        "[1].使用range 函式 的功能建立整數循序數列\n",
        "\n",
        "[2].使用for 廻圈 執行固定次數的廻圈運算(通常)\n",
        "[3].使用while 廻圈執行沒有固定次數的廻圈運算\n",
        "\n",
        "[4].continue 指令: 在廻圈執行中途暫時停住不往下執行，而跳到廻圈的起始處執行\n",
        "[5].break 指令:在廻圈執行中途強迫跳離廻圈，跳到廻圈後面的程式繼續執行。\n",
        "\n",
        "[6].廻圈中又包含廻圈的巢狀廻圈(Nested Loop)　===>設計九九乘法表\n",
        "C 程式設計有(1)for 廻圈 (2)while 廻圈 (3)do… while 廻圈 \n",
        "\n",
        "Python沒有do… while 廻圈"
      ]
    },
    {
      "cell_type": "markdown",
      "metadata": {
        "id": "9tBKdkUyprEt"
      },
      "source": [
        "range() 函式"
      ]
    },
    {
      "cell_type": "markdown",
      "metadata": {
        "id": "ViZjcVMypsLu"
      },
      "source": [
        " 使用range 函式 的建立整數循序數列\n",
        " \n",
        "變數1 = range(整數值)\n",
        "\n",
        "變數2 = range(起始值, 終止值)\n",
        "\n",
        "變數3 = range(起始值, 終止值, 多少間隔)"
      ]
    },
    {
      "cell_type": "code",
      "metadata": {
        "colab": {
          "base_uri": "https://localhost:8080/"
        },
        "id": "i7vax1C8pwe2",
        "outputId": "b977a3f8-8eda-403e-ae1b-0dc90aa13122"
      },
      "source": [
        "#變數1 = range(整數值)\n",
        "list1=range(10)\n",
        "print(list1)\n",
        "\n",
        "print(list(list1))"
      ],
      "execution_count": 1,
      "outputs": [
        {
          "output_type": "stream",
          "text": [
            "range(0, 10)\n",
            "[0, 1, 2, 3, 4, 5, 6, 7, 8, 9]\n"
          ],
          "name": "stdout"
        }
      ]
    },
    {
      "cell_type": "code",
      "metadata": {
        "colab": {
          "base_uri": "https://localhost:8080/"
        },
        "id": "6uUVa3tIp0We",
        "outputId": "84b3d6d4-1e53-494f-85f8-6d978d8beff7"
      },
      "source": [
        "#變數2 = range(起始值, 終止值)\n",
        "list2=range(-4,5)\n",
        "print(list(list2))"
      ],
      "execution_count": 2,
      "outputs": [
        {
          "output_type": "stream",
          "text": [
            "[-4, -3, -2, -1, 0, 1, 2, 3, 4]\n"
          ],
          "name": "stdout"
        }
      ]
    },
    {
      "cell_type": "code",
      "metadata": {
        "colab": {
          "base_uri": "https://localhost:8080/"
        },
        "id": "j3ACpjN7p3Fe",
        "outputId": "5dee9f4a-6616-4382-cf50-fc135fff9863"
      },
      "source": [
        "#變數3 = range(起始值, 終止值, 多少間隔)\n",
        "list3=range(-4,5,2)\n",
        "print(list(list3))\n",
        "list4=range(-4,6,2)\n",
        "print(list(list4))"
      ],
      "execution_count": 3,
      "outputs": [
        {
          "output_type": "stream",
          "text": [
            "[-4, -2, 0, 2, 4]\n",
            "[-4, -2, 0, 2, 4]\n"
          ],
          "name": "stdout"
        }
      ]
    },
    {
      "cell_type": "markdown",
      "metadata": {
        "id": "AF9tYIoVvZMM"
      },
      "source": [
        "[2]for 廻圈"
      ]
    },
    {
      "cell_type": "markdown",
      "metadata": {
        "id": "evMgnOttvaSd"
      },
      "source": [
        "使用for 廻圈 執行固定次數的廻圈運算(通常)"
      ]
    },
    {
      "cell_type": "code",
      "metadata": {
        "colab": {
          "base_uri": "https://localhost:8080/"
        },
        "id": "ezMMS5BWvcL8",
        "outputId": "6b1c1e83-fee4-495a-a466-8cb667577087"
      },
      "source": [
        "#範例 1:\n",
        "for n in range(5):\n",
        "  print(n)"
      ],
      "execution_count": 4,
      "outputs": [
        {
          "output_type": "stream",
          "text": [
            "0\n",
            "1\n",
            "2\n",
            "3\n",
            "4\n"
          ],
          "name": "stdout"
        }
      ]
    },
    {
      "cell_type": "code",
      "metadata": {
        "colab": {
          "base_uri": "https://localhost:8080/"
        },
        "id": "-o-UIqCTvg2s",
        "outputId": "738026a7-9b7b-4fa8-f375-8e834a6e96d9"
      },
      "source": [
        "#範例 2:\n",
        "for n in range(10):\n",
        "    print(n, end='@')"
      ],
      "execution_count": 5,
      "outputs": [
        {
          "output_type": "stream",
          "text": [
            "0@1@2@3@4@5@6@7@8@9@"
          ],
          "name": "stdout"
        }
      ]
    },
    {
      "cell_type": "code",
      "metadata": {
        "colab": {
          "base_uri": "https://localhost:8080/"
        },
        "id": "J6gn0Rg7vm5E",
        "outputId": "d2840c5a-c2ff-4af8-fa0d-8165f14de1e1"
      },
      "source": [
        "#範例 3:底下兩個程式輸出為何? and why?\n",
        "#程式1\n",
        "mysum = 0\n",
        "\n",
        "for n in range(5):\n",
        "  mysum += n\n",
        "  print(mysum)"
      ],
      "execution_count": 6,
      "outputs": [
        {
          "output_type": "stream",
          "text": [
            "0\n",
            "1\n",
            "3\n",
            "6\n",
            "10\n"
          ],
          "name": "stdout"
        }
      ]
    },
    {
      "cell_type": "code",
      "metadata": {
        "colab": {
          "base_uri": "https://localhost:8080/"
        },
        "id": "gsT4zfGUvvn0",
        "outputId": "348452b2-67a3-42a2-ec65-d3de2d06c3ab"
      },
      "source": [
        "#程式2\n",
        "mysum = 0\n",
        "\n",
        "for n in range(5):\n",
        "  mysum += n\n",
        "\n",
        "print(mysum)"
      ],
      "execution_count": 7,
      "outputs": [
        {
          "output_type": "stream",
          "text": [
            "10\n"
          ],
          "name": "stdout"
        }
      ]
    },
    {
      "cell_type": "markdown",
      "metadata": {
        "id": "VsKGOBfVvyx7"
      },
      "source": [
        "Python 程式碼縮排\n",
        "\n",
        "Python 語言以冒號「:」及縮排來表示程式區塊\n",
        "縮排為 1 個 Tab 鍵或 4 個空白鍵"
      ]
    },
    {
      "cell_type": "code",
      "metadata": {
        "colab": {
          "base_uri": "https://localhost:8080/"
        },
        "id": "WaaKYNmav0d9",
        "outputId": "ef8e3505-2327-44cd-b3dc-6413fcfcd444"
      },
      "source": [
        "#範例 4:計算1+2+3+ .....+ n\n",
        "x = int(input(\"請輸入一個正整數:\"))\n",
        "\n",
        "mysum = 0\n",
        "\n",
        "for n in range(x+1): ## 為什麼不是range(x)?\n",
        "  mysum += n\n",
        "\n",
        "print(mysum)"
      ],
      "execution_count": 9,
      "outputs": [
        {
          "output_type": "stream",
          "text": [
            "請輸入一個正整數:5\n",
            "15\n"
          ],
          "name": "stdout"
        }
      ]
    },
    {
      "cell_type": "code",
      "metadata": {
        "id": "nj2OYtwpv3Cd"
      },
      "source": [
        "#"
      ],
      "execution_count": null,
      "outputs": []
    },
    {
      "cell_type": "markdown",
      "metadata": {
        "id": "nfEJ9mg3v8Cq"
      },
      "source": [
        "作業是回家做的,上課期間專心聽講\n",
        "\n",
        "作業1:計算n!(==1*2*3* .....*n)\n",
        "\n",
        "作業2:輸入n\n",
        "      若n是偶數 則 輸出2+4+6+..+n 答案\n",
        "      若n是奇數 則 輸出1+3+5+..+n 答案\n",
        "\n",
        "作業3:續上題 增加判斷條件 ==> 輸入驗證(input validation)\n",
        "      若使用者輸入錯誤(如 -3 或是 11.5等) 請他再輸入一次\n",
        "\n",
        "作業4:再續上題 增加 錯誤次數記錄\n",
        "      若 錯誤次數記錄 大於3次  輸出\"你下輩子再來玩吧!\"\n",
        "\n",
        "以上題目再用while  loop再寫一次 ~~~~\n",
        "[程式閱讀題]執行下列程式並說明其結果\n",
        "底下程式如果第五行改成  if (number % 2 = 0):答案會是甚麼??\n",
        "\n",
        "numbers = [21, 4, 35, 1, 8, 7, 3, 6, 9]\n",
        "my_numbers = []\n",
        "\n",
        "for number in numbers:\n",
        "  if (number % 2 != 0): \n",
        "    my_numbers.append(number)\n",
        "\n",
        "print(my_numbers)"
      ]
    },
    {
      "cell_type": "markdown",
      "metadata": {
        "id": "E7dWaCu6v8xN"
      },
      "source": [
        "[3]While Loop"
      ]
    },
    {
      "cell_type": "markdown",
      "metadata": {
        "id": "bZq7ulgewEKE"
      },
      "source": [
        ""
      ]
    },
    {
      "cell_type": "markdown",
      "metadata": {
        "id": "UdPN3ApewGro"
      },
      "source": [
        "使用 while loop設計 \n",
        "n階程的計算:n!=1*2*3*⋯*n\n",
        "\n",
        "1!　=　１\n",
        "2!　=　1*2　=　2\n",
        "3!　=　1*2*3　=　6\n",
        "輸入::一個正整數 n\n",
        "輸出::n!\n",
        "\n",
        "當使用者輸入一個正整數 n 後，程式就會顯示\n",
        "1*2*3*...*n 的乘積"
      ]
    },
    {
      "cell_type": "code",
      "metadata": {
        "colab": {
          "base_uri": "https://localhost:8080/"
        },
        "id": "xNEp5DdpwH10",
        "outputId": "7a213972-fcd5-4b47-cc65-6e6262948f39"
      },
      "source": [
        "total = i = 1\n",
        "\n",
        "n = int(input(\"請輸入正整數 n 的值：\")) # 再問一次:為什麼要加\n",
        "\n",
        "while(i<=n):\n",
        "    total *= i  \n",
        "    i+=1      \n",
        "\n",
        "print(\"%d!=%d\" % (n, total))"
      ],
      "execution_count": 10,
      "outputs": [
        {
          "output_type": "stream",
          "text": [
            "請輸入正整數 n 的值：4\n",
            "4!=24\n"
          ],
          "name": "stdout"
        }
      ]
    },
    {
      "cell_type": "markdown",
      "metadata": {
        "id": "Kz2UmG7OwLoc"
      },
      "source": [
        "[4]break 指令"
      ]
    },
    {
      "cell_type": "markdown",
      "metadata": {
        "id": "M8s-d-hJwMrc"
      },
      "source": [
        "可在廻圈執行中途強迫跳離廻圈，跳到廻圈後面的程式繼續執行。"
      ]
    },
    {
      "cell_type": "code",
      "metadata": {
        "colab": {
          "base_uri": "https://localhost:8080/"
        },
        "id": "_dBecDiIwO0u",
        "outputId": "450bc04b-3b38-44ca-cbd7-f12ebee665d0"
      },
      "source": [
        "fruits = [\"香蕉\",\"蘋果\",\"橘子\",\"鳳梨\",\"西瓜\"]\n",
        "\n",
        "while True:\n",
        "    fruit = input(\"請輸入喜歡的水果(Enter 結束)：\")\n",
        "\n",
        "\n",
        "    if (fruit==\"\"):\n",
        "        break\n",
        "\n",
        "    n = fruits.count(fruit) \n",
        "    if (n>0):  # 串列元素存在\n",
        "        p=fruits.index(fruit)\n",
        "        print(\"%s 在串列中的第 %d 項\" %(fruit,p+1))\n",
        "    else:\n",
        "        print(fruit,\"不在串列中!\")"
      ],
      "execution_count": 12,
      "outputs": [
        {
          "output_type": "stream",
          "text": [
            "請輸入喜歡的水果(Enter 結束)：西瓜\n",
            "西瓜 在串列中的第 5 項\n",
            "請輸入喜歡的水果(Enter 結束)：橘子\n",
            "橘子 在串列中的第 3 項\n",
            "請輸入喜歡的水果(Enter 結束)：芭樂\n",
            "芭樂 不在串列中!\n",
            "請輸入喜歡的水果(Enter 結束)：鳳梨\n",
            "鳳梨 在串列中的第 4 項\n",
            "請輸入喜歡的水果(Enter 結束)：\n"
          ],
          "name": "stdout"
        }
      ]
    },
    {
      "cell_type": "markdown",
      "metadata": {
        "id": "xArsXZsuwOe0"
      },
      "source": [
        "[5]continue 指令"
      ]
    },
    {
      "cell_type": "markdown",
      "metadata": {
        "id": "TDVxt7SkwgIz"
      },
      "source": [
        "在廻圈執行中途暫時停住不往下執行，而跳到廻圈的起始處繼續執行\n",
        "撰寫一個可以排除數列中 5 的倍數的程式\n",
        "\n",
        "輸入::一個正整數 n\n",
        "輸出::\n",
        "使用者只要輸入一個正整數，\n",
        "程式會顯示由 1 到該整數的整數數列，但會將 5 的倍數排除"
      ]
    },
    {
      "cell_type": "code",
      "metadata": {
        "colab": {
          "base_uri": "https://localhost:8080/"
        },
        "id": "hjfMxS2lwgqr",
        "outputId": "c8233302-94c3-49cf-a3c3-b073c06761ec"
      },
      "source": [
        "n = int(input(\"請輸入正整數：\"))\n",
        "\n",
        "for i in range(1, n+1):\n",
        "    if i % 5 ==0:\n",
        "        continue\n",
        "    print(i,end=\" \")"
      ],
      "execution_count": 14,
      "outputs": [
        {
          "output_type": "stream",
          "text": [
            "請輸入正整數：34\n",
            "1 2 3 4 6 7 8 9 11 12 13 14 16 17 18 19 21 22 23 24 26 27 28 29 31 32 33 34 "
          ],
          "name": "stdout"
        }
      ]
    },
    {
      "cell_type": "markdown",
      "metadata": {
        "id": "Zjs9qDvPwn0c"
      },
      "source": [
        "[6]巢狀廻圈Nested Loop[自主學習主題]"
      ]
    },
    {
      "cell_type": "markdown",
      "metadata": {
        "id": "yTPYtLpmwqAQ"
      },
      "source": [
        "廻圈中又包含廻圈 ==> 巢狀廻圈(Nested Loop)"
      ]
    },
    {
      "cell_type": "code",
      "metadata": {
        "colab": {
          "base_uri": "https://localhost:8080/"
        },
        "id": "BUT8lvQnwrCz",
        "outputId": "69e3c3f8-9a63-42b9-d896-e7893652833e"
      },
      "source": [
        "#!/usr/bin/python\n",
        "# -*- coding: UTF-8 -*-\n",
        " \n",
        "for i in range(1,6):\n",
        "    for j in range(1,5):\n",
        "        for k in range(1,7):\n",
        "            if( i != k ) and (i != j) and (j != k):\n",
        "                print(i,j,k,end=' ',sep='')\n",
        "    print()"
      ],
      "execution_count": 21,
      "outputs": [
        {
          "output_type": "stream",
          "text": [
            "123 124 125 126 132 134 135 136 142 143 145 146 \n",
            "213 214 215 216 231 234 235 236 241 243 245 246 \n",
            "312 314 315 316 321 324 325 326 341 342 345 346 \n",
            "412 413 415 416 421 423 425 426 431 432 435 436 \n",
            "512 513 514 516 521 523 524 526 531 532 534 536 541 542 543 546 \n"
          ],
          "name": "stdout"
        }
      ]
    },
    {
      "cell_type": "markdown",
      "metadata": {
        "id": "VWjdmCZCxM27"
      },
      "source": [
        "作業1:計算上題的總和"
      ]
    },
    {
      "cell_type": "markdown",
      "metadata": {
        "id": "QEDrfa4oxONs"
      },
      "source": [
        "程式設計題:九九乘法表"
      ]
    },
    {
      "cell_type": "markdown",
      "metadata": {
        "id": "TqJxuk0sxQIM"
      },
      "source": [
        "小小測驗:不必教 [自主學習主題]"
      ]
    },
    {
      "cell_type": "markdown",
      "metadata": {
        "id": "p-BMPG6VxRp0"
      },
      "source": [
        "底下程式執行結果為何?"
      ]
    },
    {
      "cell_type": "code",
      "metadata": {
        "colab": {
          "base_uri": "https://localhost:8080/"
        },
        "id": "W3bvNp04xVIk",
        "outputId": "9962466a-3e57-4646-b855-7c9becd7aad1"
      },
      "source": [
        "for x in range(19):\n",
        "  print(x)\n",
        "for x in range(0,19,2):\n",
        "  print(x)\n",
        "for x in range(20,11,-1):\n",
        "  print(x)\n",
        "for x in range(0,19,-1):\n",
        "  print(x)\n",
        "output = ''\n",
        "\n",
        "for x in range(0,19,3):\n",
        "  output += str(x)\n",
        "  print(output, end=\" \")\n",
        "output = ''\n",
        "\n",
        "for x in range(0,19,3):\n",
        "  print(x, end=\" \")\n",
        "list1 = range(0,19,3)\n",
        "\n",
        "for x in list1:\n",
        "  print(x, end=\" \")"
      ],
      "execution_count": 22,
      "outputs": [
        {
          "output_type": "stream",
          "text": [
            "0\n",
            "1\n",
            "2\n",
            "3\n",
            "4\n",
            "5\n",
            "6\n",
            "7\n",
            "8\n",
            "9\n",
            "10\n",
            "11\n",
            "12\n",
            "13\n",
            "14\n",
            "15\n",
            "16\n",
            "17\n",
            "18\n",
            "0\n",
            "2\n",
            "4\n",
            "6\n",
            "8\n",
            "10\n",
            "12\n",
            "14\n",
            "16\n",
            "18\n",
            "20\n",
            "19\n",
            "18\n",
            "17\n",
            "16\n",
            "15\n",
            "14\n",
            "13\n",
            "12\n",
            "0 03 036 0369 036912 03691215 0369121518 0 3 6 9 12 15 18 0 3 6 9 12 15 18 "
          ],
          "name": "stdout"
        }
      ]
    },
    {
      "cell_type": "markdown",
      "metadata": {
        "id": "leZ3dW7Ixcgs"
      },
      "source": [
        "[程式閱讀題] 下列程式輸入淨利潤為11111時請問輸出為何?"
      ]
    },
    {
      "cell_type": "code",
      "metadata": {
        "colab": {
          "base_uri": "https://localhost:8080/"
        },
        "id": "qXBzgpXXxarV",
        "outputId": "8c722d4e-b34f-4376-f34f-1f529c7048c2"
      },
      "source": [
        "#!/usr/bin/python\n",
        "# -*- coding: UTF-8 -*-\n",
        " \n",
        "i = int(input('淨利潤:'))\n",
        "\n",
        "arr = [1000000,600000,400000,200000,100000,0]\n",
        "rat = [0.01,0.015,0.03,0.05,0.075,0.1]\n",
        "r = 0\n",
        "\n",
        "for idx in range(0,6):\n",
        "    if i>arr[idx]:\n",
        "        r+=(i-arr[idx])*rat[idx]\n",
        "        print((i-arr[idx])*rat[idx])\n",
        "        i=arr[idx]\n",
        "\n",
        "print(r)"
      ],
      "execution_count": 23,
      "outputs": [
        {
          "output_type": "stream",
          "text": [
            "淨利潤:11111\n",
            "1111.1000000000001\n",
            "1111.1000000000001\n"
          ],
          "name": "stdout"
        }
      ]
    }
  ]
}