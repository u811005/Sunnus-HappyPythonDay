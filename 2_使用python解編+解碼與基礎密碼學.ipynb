{
  "nbformat": 4,
  "nbformat_minor": 0,
  "metadata": {
    "colab": {
      "name": "2_使用python解編+解碼與基礎密碼學.ipynb",
      "provenance": [],
      "collapsed_sections": [],
      "authorship_tag": "ABX9TyPuF9k/MBOqLpq9VD0evQ4E",
      "include_colab_link": true
    },
    "kernelspec": {
      "name": "python3",
      "display_name": "Python 3"
    },
    "language_info": {
      "name": "python"
    }
  },
  "cells": [
    {
      "cell_type": "markdown",
      "metadata": {
        "id": "view-in-github",
        "colab_type": "text"
      },
      "source": [
        "<a href=\"https://colab.research.google.com/github/u811005/Sunnus-HappyPythonDay/blob/main/2_%E4%BD%BF%E7%94%A8python%E8%A7%A3%E7%B7%A8%2B%E8%A7%A3%E7%A2%BC%E8%88%87%E5%9F%BA%E7%A4%8E%E5%AF%86%E7%A2%BC%E5%AD%B8.ipynb\" target=\"_parent\"><img src=\"https://colab.research.google.com/assets/colab-badge.svg\" alt=\"Open In Colab\"/></a>"
      ]
    },
    {
      "cell_type": "markdown",
      "metadata": {
        "id": "vBOe2HMYMUOI"
      },
      "source": [
        "# Python實戰 CTF::使用Python編碼與解碼\n"
      ]
    },
    {
      "cell_type": "markdown",
      "metadata": {
        "id": "OYUMQp9OMZEv"
      },
      "source": [
        "學習目標1:基礎必教篇 ==Python 內建函數 與 標準函式庫的示範\n",
        "[1]使用Python程式與內建函數進行ASCII的編碼與解碼\n",
        "[2]使用Python標準函式庫(Base 64模組)進行BASE64的編碼與解碼\n",
        "\n",
        "[3](可不教)補充教材:數字系統( number system)的轉換\n",
        "\n",
        "學習目標2:進階競賽\n",
        "[4]Internetwache CTF 2016 : The hidden message\n",
        "[5]需要神的靈光閃爍==SECCON CTF 2014: Easy Cipher \n",
        "\n",
        "其他參考資料"
      ]
    },
    {
      "cell_type": "markdown",
      "metadata": {
        "id": "pahhwfU5Mn9_"
      },
      "source": [
        "## Python實戰 CTF::使用Python編碼與解碼"
      ]
    },
    {
      "cell_type": "markdown",
      "metadata": {
        "id": "92SXnpTyMTgJ"
      },
      "source": [
        "### 編碼與解碼101"
      ]
    },
    {
      "cell_type": "markdown",
      "metadata": {
        "id": "a5JP22ZFNH_V"
      },
      "source": [
        "[1]使用Python程式與內建函數進行ASCII的編碼與解碼"
      ]
    },
    {
      "cell_type": "code",
      "metadata": {
        "colab": {
          "base_uri": "https://localhost:8080/"
        },
        "id": "Tjyp5NYGM3AP",
        "outputId": "ce773340-5cca-42ee-de1e-51ff5bb1cd81"
      },
      "source": [
        "#Python 內建函數(Built in Functions):chr()與ord()\n",
        "c = input()\n",
        "\n",
        "flag = \"\"\n",
        "\n",
        "for x in c.split(' '):\n",
        "  flag += chr(int(x))\n",
        "\n",
        "print(flag)"
      ],
      "execution_count": 1,
      "outputs": [
        {
          "output_type": "stream",
          "text": [
            "66 114 101 97 107 65 76 76 67 84 70 123 65 109 118 48 117 68 121 101 114 118 80 116 109 86 114 57 83 83 83 75 125\n",
            "BreakALLCTF{Amv0uDyervPtmVr9SSSK}\n"
          ],
          "name": "stdout"
        }
      ]
    },
    {
      "cell_type": "markdown",
      "metadata": {
        "id": "IACuJdKCNSqX"
      },
      "source": [
        "[2]使用Python標準函式庫進行BASE64、BASE32的編碼與解碼"
      ]
    },
    {
      "cell_type": "code",
      "metadata": {
        "colab": {
          "base_uri": "https://localhost:8080/"
        },
        "id": "lbK-EzEsNVk3",
        "outputId": "38453786-f6c9-41ac-da21-1b4c373998cd"
      },
      "source": [
        "#使用Base 64 進行Base 64解碼\n",
        "import base64\n",
        "\n",
        "encoded_data = b'QnJlYWtBTExDVEZ7NTN1c1pRM2hXVzI1ZGNoWjdkWGV9'\n",
        "decoded_data = base64.b64decode(encoded_data)\n",
        "print('Encoded :', encoded_data)\n",
        "print('Decoded :', decoded_data)"
      ],
      "execution_count": 2,
      "outputs": [
        {
          "output_type": "stream",
          "text": [
            "Encoded : b'QnJlYWtBTExDVEZ7NTN1c1pRM2hXVzI1ZGNoWjdkWGV9'\n",
            "Decoded : b'BreakALLCTF{53usZQ3hWW25dchZ7dXe}'\n"
          ],
          "name": "stdout"
        }
      ]
    },
    {
      "cell_type": "code",
      "metadata": {
        "colab": {
          "base_uri": "https://localhost:8080/"
        },
        "id": "fax_uHrSO0ol",
        "outputId": "9923c8c3-8efc-450a-a6ef-f8220d0141d3"
      },
      "source": [
        "#使用Base 64 進行Base 64編碼\n",
        "decoded_data = b'BreakallCTF{happyhackinghighhaaha}'\n",
        "print('Decoded :', decoded_data)\n",
        "\n",
        "encoded = base64.b64encode(decoded_data)\n",
        "print('Encoded :', encoded_data)\n"
      ],
      "execution_count": 10,
      "outputs": [
        {
          "output_type": "stream",
          "text": [
            "Decoded : b'BreakallCTF{happyhackinghighhaaha}'\n",
            "Encoded : b'IJZGKYLLIFWGYQ2UIZ5UQYLQOB4VA6LUNBXW4RDBPF6Q===='\n"
          ],
          "name": "stdout"
        }
      ]
    },
    {
      "cell_type": "code",
      "metadata": {
        "colab": {
          "base_uri": "https://localhost:8080/"
        },
        "id": "70dPqMQbNsUv",
        "outputId": "ff3f7bdc-216d-46ce-9f73-600da959aeb6"
      },
      "source": [
        "#使用Base 64 模組也可以進行Base 32編碼與解碼\n",
        "import base64\n",
        "\n",
        "original_data = 'IJZGKYLLIFGEYQ2UIZ5TS6BUHA2VMUZXO5UWS5CCLJMFKVLIJVSX2==='\n",
        "print('Original data:', original_data)\n",
        "\n",
        "decoded_data = base64.b32decode(original_data)\n",
        "print('Decoded :', decoded_data)"
      ],
      "execution_count": 5,
      "outputs": [
        {
          "output_type": "stream",
          "text": [
            "Original data: IJZGKYLLIFGEYQ2UIZ5TS6BUHA2VMUZXO5UWS5CCLJMFKVLIJVSX2===\n",
            "Decoded : b'BreakALLCTF{9x485VS7wiitBZXUUhMe}'\n"
          ],
          "name": "stdout"
        }
      ]
    },
    {
      "cell_type": "markdown",
      "metadata": {
        "id": "dY72GDD1Ou23"
      },
      "source": [
        "[3]摩斯密碼"
      ]
    }
  ]
}