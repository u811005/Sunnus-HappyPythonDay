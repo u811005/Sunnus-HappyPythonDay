{
  "nbformat": 4,
  "nbformat_minor": 0,
  "metadata": {
    "colab": {
      "name": "3_python決策與選擇結構.ipynb",
      "provenance": [],
      "authorship_tag": "ABX9TyNGgaQuLwHngj/lvFHhnUA/",
      "include_colab_link": true
    },
    "kernelspec": {
      "name": "python3",
      "display_name": "Python 3"
    },
    "language_info": {
      "name": "python"
    }
  },
  "cells": [
    {
      "cell_type": "markdown",
      "metadata": {
        "id": "view-in-github",
        "colab_type": "text"
      },
      "source": [
        "<a href=\"https://colab.research.google.com/github/u811005/Sunnus-HappyPythonDay/blob/main/3_python%E6%B1%BA%E7%AD%96%E8%88%87%E9%81%B8%E6%93%87%E7%B5%90%E6%A7%8B.ipynb\" target=\"_parent\"><img src=\"https://colab.research.google.com/assets/colab-badge.svg\" alt=\"Open In Colab\"/></a>"
      ]
    },
    {
      "cell_type": "markdown",
      "metadata": {
        "id": "maMUBgahh51C"
      },
      "source": [
        "python決策與選擇結構(SELECTION /DECISION)"
      ]
    },
    {
      "cell_type": "markdown",
      "metadata": {
        "id": "sTnJfY_zh3FS"
      },
      "source": [
        "程式語言都會有的決策與選擇結構(SELECTION /DECISION)\n",
        "C C++ C# \n",
        "[1]if\n",
        "[2]if ...elsif\n",
        "[3]if ...else\n",
        "[4]if ...elsif ...else\n",
        "[5]各種判斷條件==> 善用 AND   OR\n",
        "[6]範例\n",
        "單向判斷式（if⋯）: 是非題｜對的才要做\n",
        "雙向判斷式（if⋯else）: 二選一｜一定要選的\n",
        "多向判斷式（if⋯elif⋯else）: 多選一｜一定要選的\n",
        "PS: Python沒有switch\n",
        "https://www.w3schools.com/python/python_conditions.asp\n",
        "教學重點:教學要教最簡單的範例,要快速教完\n",
        "作業要出很難的 磨出學生的程式力"
      ]
    },
    {
      "cell_type": "markdown",
      "metadata": {
        "id": "AsnaCy7diC5H"
      },
      "source": [
        "[1]if ==>底下程式輸出為何?\n",
        "\n",
        "```\n",
        "a = 33\n",
        "b = 200\n",
        "\n",
        "if b > a:\n",
        "  print(\"b is greater than a\")\n",
        "a = 33\n",
        "b = 20\n",
        "\n",
        "if b > a:\n",
        "  print(\"b is greater than a\")\n",
        "\n",
        "```\n",
        "\n"
      ]
    },
    {
      "cell_type": "code",
      "metadata": {
        "id": "SAJdodZviKdx"
      },
      "source": [
        ""
      ],
      "execution_count": null,
      "outputs": []
    }
  ]
}